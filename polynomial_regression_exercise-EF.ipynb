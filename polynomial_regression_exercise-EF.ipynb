{
 "cells": [
  {
   "cell_type": "markdown",
   "metadata": {},
   "source": [
    "### Regression exercise\n",
    "\n",
    "Today, we will fit different polynomial regression to randomly generated data and explore how our loss function behaves. We will use the formulas, introduced in the theoretical sections and create a linear regression model from scratch. \n"
   ]
  },
  {
   "cell_type": "markdown",
   "metadata": {},
   "source": [
    "#### Task 1\n",
    "\n",
    "Write a function psi(x,m) defined as $\\psi(x)=[1, x, x ^2, ..., x^m]$\n",
    "\n",
    "Example input: `psi(2, 3)`\n",
    "\n",
    "Example output: `[1, 2, 4, 8]`\n",
    "\n",
    "- HINT: use FOR loop with `for i in range(m+1):` inside the psi function"
   ]
  },
  {
   "cell_type": "code",
   "execution_count": 3,
   "metadata": {},
   "outputs": [],
   "source": [
    "def psi(number, m):\n",
    "    # empty list to store the results\n",
    "    products = []\n",
    "    \n",
    "    # for loop to append each result to products\n",
    "    for i in range(m+1): # need +1 since range does not include the last number (m)\n",
    "        products.append(number ** i)\n",
    "    \n",
    "    # return the products list as output\n",
    "    return products"
   ]
  },
  {
   "cell_type": "code",
   "execution_count": 5,
   "metadata": {},
   "outputs": [
    {
     "data": {
      "text/plain": [
       "[1, 2, 4, 8, 16]"
      ]
     },
     "execution_count": 5,
     "metadata": {},
     "output_type": "execute_result"
    }
   ],
   "source": [
    "psi(2,4)"
   ]
  },
  {
   "cell_type": "markdown",
   "metadata": {},
   "source": [
    "#### Task 2\n",
    "\n",
    "Write a function $h(x,\\alpha, m)$ defined as $h(x,\\alpha, m)=\\alpha^T\\psi(x, m)$\n",
    "\n",
    "Example input: `h(2,2,3)`\n",
    "\n",
    "Example output: `array([ 2,  4,  8, 16])`\n",
    "\n",
    "- HINT: use the `np.dot` between the $\\alpha$ and the output of psi(x, m)"
   ]
  },
  {
   "cell_type": "code",
   "execution_count": 6,
   "metadata": {},
   "outputs": [],
   "source": [
    "import numpy as np"
   ]
  },
  {
   "cell_type": "code",
   "execution_count": 7,
   "metadata": {},
   "outputs": [],
   "source": [
    "def h(x, alpha, m):\n",
    "    return np.dot(alpha, psi(x, m))"
   ]
  },
  {
   "cell_type": "code",
   "execution_count": 8,
   "metadata": {},
   "outputs": [
    {
     "data": {
      "text/plain": [
       "array([ 2,  4,  8, 16])"
      ]
     },
     "execution_count": 8,
     "metadata": {},
     "output_type": "execute_result"
    }
   ],
   "source": [
    "h(2,2,3)"
   ]
  },
  {
   "cell_type": "markdown",
   "metadata": {},
   "source": [
    "#### Task 3\n",
    "Create a random 3rd order polynomial and call it `p3`\n",
    "\n",
    "- HINT: check function `np.poly1d`"
   ]
  },
  {
   "cell_type": "code",
   "execution_count": 10,
   "metadata": {},
   "outputs": [],
   "source": [
    "# According to numpy API reference, np.poly1d is obsolete\n",
    "#from numpy.polynomial import Polynomial"
   ]
  },
  {
   "cell_type": "code",
   "execution_count": 11,
   "metadata": {},
   "outputs": [],
   "source": [
    "p3 = np.poly1d([np.random.rand(), np.random.rand(), np.random.rand(), np.random.rand()])"
   ]
  },
  {
   "cell_type": "code",
   "execution_count": 13,
   "metadata": {},
   "outputs": [
    {
     "name": "stdout",
     "output_type": "stream",
     "text": [
      "        3          2\n",
      "0.9639 x + 0.2466 x + 0.6947 x + 0.4844\n"
     ]
    }
   ],
   "source": [
    "print(np.poly1d(p3))"
   ]
  },
  {
   "cell_type": "code",
   "execution_count": 44,
   "metadata": {},
   "outputs": [],
   "source": [
    "import matplotlib.pyplot as plt\n",
    "import seaborn as sns"
   ]
  },
  {
   "cell_type": "code",
   "execution_count": 47,
   "metadata": {},
   "outputs": [
    {
     "data": {
      "image/png": "[encoded data removed]",
      "text/plain": [
       "<Figure size 640x480 with 1 Axes>"
      ]
     },
     "metadata": {},
     "output_type": "display_data"
    }
   ],
   "source": [
    "# let's plot the 3rd order polynomial in the -10,10 range\n",
    "# define our range of x values\n",
    "x = np.linspace(-10, 10, num=100)\n",
    "\n",
    "# define the y(x) values\n",
    "fx = []\n",
    "for i in range(len(x)):\n",
    "    fx.append(0.9639*x[i]**3 + 0.2466*x[i]**2 + 0.6947*x[i] + 0.4844)\n",
    "\n",
    "# plot the figure\n",
    "plt.plot(x,fx)\n",
    "plt.grid()\n",
    "plt.axvline()\n",
    "plt.axhline()\n",
    "plt.show()    "
   ]
  },
  {
   "cell_type": "markdown",
   "metadata": {},
   "source": [
    "#### Task 4\n",
    "Choose an interval `[a,b]`, on which the polynomial is S-shaped. \n",
    "\n",
    "At first we can choose random interval, for example `[-3,5)`, and come back to this task after **Task 7**."
   ]
  },
  {
   "cell_type": "code",
   "execution_count": null,
   "metadata": {},
   "outputs": [],
   "source": [
    "# plot polynomial, then just choose a region"
   ]
  },
  {
   "cell_type": "code",
   "execution_count": 59,
   "metadata": {},
   "outputs": [],
   "source": [
    "interval = -4"
   ]
  },
  {
   "cell_type": "code",
   "execution_count": 60,
   "metadata": {},
   "outputs": [],
   "source": [
    "interval2 = 4"
   ]
  },
  {
   "cell_type": "markdown",
   "metadata": {},
   "source": [
    "#### Task 5\n",
    "Sample 30 random values in [a,b] and stored them in `xs`.\n",
    "\n",
    "- HINT: use `np.random.random_sample` function\n",
    "\n",
    "Output `xs` should be numpy array with length=30 and values between `a` and `b`"
   ]
  },
  {
   "cell_type": "code",
   "execution_count": 61,
   "metadata": {},
   "outputs": [],
   "source": [
    "xs = (interval2 - interval) * np.random.random_sample(30) - 4"
   ]
  },
  {
   "cell_type": "code",
   "execution_count": 62,
   "metadata": {},
   "outputs": [
    {
     "data": {
      "text/plain": [
       "array([ 0.19810387,  2.87801208,  2.68158584,  1.74775636, -0.63095102,\n",
       "       -2.93100737, -3.31240578,  0.7443059 , -1.05243459,  3.38072996,\n",
       "       -2.53267988,  0.17625138, -1.87757613,  3.34196562,  1.36645253,\n",
       "       -1.3872734 ,  3.93064442,  3.79093641,  3.32651915,  3.57340427,\n",
       "       -1.50566203,  3.0342791 , -1.01039202,  1.78310262, -3.00939813,\n",
       "        0.57100569, -2.96745172,  1.19543245,  2.26233135,  1.87591676])"
      ]
     },
     "execution_count": 62,
     "metadata": {},
     "output_type": "execute_result"
    }
   ],
   "source": [
    "xs"
   ]
  },
  {
   "cell_type": "markdown",
   "metadata": {},
   "source": [
    "#### Task 6\n",
    "For each x in xs, compute p3(x) and store them as `ys`.\n",
    "\n",
    "- HINT: `ys = p3(xs)`"
   ]
  },
  {
   "cell_type": "code",
   "execution_count": 63,
   "metadata": {},
   "outputs": [],
   "source": [
    "ys = p3(xs)"
   ]
  },
  {
   "cell_type": "code",
   "execution_count": 64,
   "metadata": {},
   "outputs": [
    {
     "data": {
      "text/plain": [
       "array([  0.63922194,  27.50506553,  22.708199  ,   7.59815797,\n",
       "        -0.09783654, -23.70431735, -34.14334142,   1.5355935 ,\n",
       "        -1.09717662,  42.89738746, -15.35273609,   0.6198068 ,\n",
       "        -6.33070547,  41.53961887,   4.35359921,  -2.57820115,\n",
       "        65.56296719,  59.17724034,  41.00690516,  50.09960145,\n",
       "        -3.29267138,  31.7913669 ,  -0.96000523,   7.97207639,\n",
       "       -25.64390837,   1.14097791, -24.59329584,   3.31406186,\n",
       "        14.47958259,   9.01885951])"
      ]
     },
     "execution_count": 64,
     "metadata": {},
     "output_type": "execute_result"
    }
   ],
   "source": [
    "ys"
   ]
  },
  {
   "cell_type": "markdown",
   "metadata": {},
   "source": [
    "#### Task 7:\n",
    "Plot `ys` against `xs` on [a,b]. Does it look like a third order polynomial?\n",
    "\n",
    "Is the curve S-shaped? if not, repeat steps 3-7.\n",
    "\n",
    "- HINT: check out function `plt.scatter`\n",
    "- HINT: polynomial `p3 = np.poly1d([1,-3, 2,-1])` is S-shaped on the interval `[-3,5]`\n",
    "\n"
   ]
  },
  {
   "cell_type": "code",
   "execution_count": 65,
   "metadata": {},
   "outputs": [
    {
     "data": {
      "text/plain": [
       "<matplotlib.collections.PathCollection at 0x7fcb25f93580>"
      ]
     },
     "execution_count": 65,
     "metadata": {},
     "output_type": "execute_result"
    },
    {
     "data": {
      "image/png": "[encoded data removed]",
      "text/plain": [
       "<Figure size 640x480 with 1 Axes>"
      ]
     },
     "metadata": {},
     "output_type": "display_data"
    }
   ],
   "source": [
    "plt.scatter(xs, ys)"
   ]
  },
  {
   "cell_type": "markdown",
   "metadata": {},
   "source": [
    "## Fitting the data"
   ]
  },
  {
   "cell_type": "markdown",
   "metadata": {},
   "source": [
    "We will try to fit the data by a polynomial of order m=2. \n",
    "\n",
    "#### Task 8:\n",
    "\n",
    "Using xs and psi(x,m) from the **Task I**, create the matrix X defined as \n",
    "\n",
    "<img src=\"matrixX.png\">\n",
    "\n",
    "- HINT: Use a for loop and call psi(x,2) on every item in `xs`. Output should be stored as columns in matrix X.\n",
    "- HINT: For `m = 2` and `len(xs) = 30`, the `X.shape = (3,30)`"
   ]
  },
  {
   "cell_type": "code",
   "execution_count": 83,
   "metadata": {},
   "outputs": [],
   "source": [
    "mat_list = []\n",
    "\n",
    "for i in range(len(xs)): \n",
    "    mat_list.append(psi(xs[i], 2))\n",
    "\n",
    "X = np.array(mat_list).T"
   ]
  },
  {
   "cell_type": "code",
   "execution_count": 84,
   "metadata": {},
   "outputs": [
    {
     "data": {
      "text/plain": [
       "(3, 30)"
      ]
     },
     "execution_count": 84,
     "metadata": {},
     "output_type": "execute_result"
    }
   ],
   "source": [
    "X.shape"
   ]
  },
  {
   "cell_type": "markdown",
   "metadata": {},
   "source": [
    "#### Task 9\n",
    "Compute the optimal $\\alpha$ using the expression $\\alpha = (XX^T)^+Xy$ where $(XX^T)^+$ is the pseudoinverse matrix. y is our `ys` from the Task 6 and X is matrix from the Task 8.\n",
    "\n",
    "- HINT: Numpy functions `np.dot`, `np.linalg.inv` and `transpose()` should be used"
   ]
  },
  {
   "cell_type": "code",
   "execution_count": 87,
   "metadata": {},
   "outputs": [
    {
     "data": {
      "text/plain": [
       "(3, 30)"
      ]
     },
     "execution_count": 87,
     "metadata": {},
     "output_type": "execute_result"
    }
   ],
   "source": [
    "X.shape"
   ]
  },
  {
   "cell_type": "code",
   "execution_count": 88,
   "metadata": {},
   "outputs": [
    {
     "data": {
      "text/plain": [
       "(30,)"
      ]
     },
     "execution_count": 88,
     "metadata": {},
     "output_type": "execute_result"
    }
   ],
   "source": [
    "ys.shape"
   ]
  },
  {
   "cell_type": "code",
   "execution_count": 97,
   "metadata": {},
   "outputs": [],
   "source": [
    "# Calculate the dot product of X X^T\n",
    "prod = np.dot(X, X.T)\n",
    "\n",
    "# Calculate the pseudoinverse matrix\n",
    "pseudo = np.linalg.inv(prod)"
   ]
  },
  {
   "cell_type": "code",
   "execution_count": 99,
   "metadata": {},
   "outputs": [
    {
     "data": {
      "text/plain": [
       "(3, 3)"
      ]
     },
     "execution_count": 99,
     "metadata": {},
     "output_type": "execute_result"
    }
   ],
   "source": [
    "pseudo.shape"
   ]
  },
  {
   "cell_type": "code",
   "execution_count": 101,
   "metadata": {},
   "outputs": [
    {
     "data": {
      "text/plain": [
       "array([-3.22340954,  9.06874126,  1.22745964])"
      ]
     },
     "execution_count": 101,
     "metadata": {},
     "output_type": "execute_result"
    }
   ],
   "source": [
    "alpha = np.dot(np.dot(pseudo, X), ys)\n",
    "alpha"
   ]
  },
  {
   "cell_type": "code",
   "execution_count": 104,
   "metadata": {},
   "outputs": [
    {
     "data": {
      "text/plain": [
       "(3,)"
      ]
     },
     "execution_count": 104,
     "metadata": {},
     "output_type": "execute_result"
    }
   ],
   "source": [
    "alpha.shape"
   ]
  },
  {
   "cell_type": "code",
   "execution_count": 105,
   "metadata": {},
   "outputs": [
    {
     "data": {
      "text/plain": [
       "numpy.ndarray"
      ]
     },
     "execution_count": 105,
     "metadata": {},
     "output_type": "execute_result"
    }
   ],
   "source": [
    "type(alpha)"
   ]
  },
  {
   "cell_type": "markdown",
   "metadata": {},
   "source": [
    "#### Task 10\n",
    "Plot the original data and the computed polynomial which represents our prediction into one chart. Does it fit? We need to compute prediction using alpha from the **Task 9** for the each item in xs.\n",
    "\n",
    "HINT: for first item in xs, prediction is `y_est = h(list(xs)[1],alpha, m)` where alpha is output of the **Task 9** and **m=2**. This needs to be repeated for every element of xs"
   ]
  },
  {
   "cell_type": "code",
   "execution_count": 109,
   "metadata": {},
   "outputs": [],
   "source": [
    "estimates = []\n",
    "\n",
    "for i in range(len(xs)):\n",
    "    estimates.append(h(list(xs)[i], alpha, 2))"
   ]
  },
  {
   "cell_type": "code",
   "execution_count": 112,
   "metadata": {},
   "outputs": [
    {
     "data": {
      "text/plain": [
       "(30,)"
      ]
     },
     "execution_count": 112,
     "metadata": {},
     "output_type": "execute_result"
    }
   ],
   "source": [
    "y_est = np.array(estimates)"
   ]
  },
  {
   "cell_type": "code",
   "execution_count": 113,
   "metadata": {},
   "outputs": [
    {
     "data": {
      "text/plain": [
       "<matplotlib.collections.PathCollection at 0x7fcb25950df0>"
      ]
     },
     "execution_count": 113,
     "metadata": {},
     "output_type": "execute_result"
    },
    {
     "data": {
      "image/png": "[encoded data removed]",
      "text/plain": [
       "<Figure size 640x480 with 1 Axes>"
      ]
     },
     "metadata": {},
     "output_type": "display_data"
    }
   ],
   "source": [
    "plt.scatter(xs, ys)\n",
    "plt.scatter(xs,y_est)"
   ]
  },
  {
   "cell_type": "markdown",
   "metadata": {},
   "source": [
    "The data does not fit perfectly since we didn't use the right polynomial order"
   ]
  },
  {
   "cell_type": "markdown",
   "metadata": {},
   "source": [
    "#### Task 11\n",
    "Repeat the process, **tasks 8-10**, for m=3,…,10. What do you observe? Which polynomial has the best fit?"
   ]
  },
  {
   "cell_type": "code",
   "execution_count": 134,
   "metadata": {},
   "outputs": [],
   "source": [
    "mat_list2 = []\n",
    "\n",
    "for i in range(len(xs)): \n",
    "    mat_list2.append(psi(xs[i], 3))\n",
    "\n",
    "X = np.array(mat_list2).T"
   ]
  },
  {
   "cell_type": "code",
   "execution_count": 135,
   "metadata": {},
   "outputs": [],
   "source": [
    "# Calculate the dot product of X X^T\n",
    "prod = np.dot(X, X.T)\n",
    "\n",
    "# Calculate the pseudoinverse matrix\n",
    "pseudo = np.linalg.inv(prod)"
   ]
  },
  {
   "cell_type": "code",
   "execution_count": 136,
   "metadata": {},
   "outputs": [],
   "source": [
    "alpha = np.dot(np.dot(pseudo, X), ys)"
   ]
  },
  {
   "cell_type": "code",
   "execution_count": 137,
   "metadata": {},
   "outputs": [],
   "source": [
    "estimates = []\n",
    "\n",
    "for i in range(len(xs)):\n",
    "    estimates.append(h(list(xs)[i], alpha, 3))"
   ]
  },
  {
   "cell_type": "code",
   "execution_count": 138,
   "metadata": {},
   "outputs": [],
   "source": [
    "y_est = np.array(estimates)"
   ]
  },
  {
   "cell_type": "code",
   "execution_count": 139,
   "metadata": {},
   "outputs": [
    {
     "data": {
      "text/plain": [
       "<matplotlib.collections.PathCollection at 0x7fcb1eeedc70>"
      ]
     },
     "execution_count": 139,
     "metadata": {},
     "output_type": "execute_result"
    },
    {
     "data": {
      "image/png": "[encoded data removed]",
      "text/plain": [
       "<Figure size 640x480 with 1 Axes>"
      ]
     },
     "metadata": {},
     "output_type": "display_data"
    }
   ],
   "source": [
    "plt.scatter(xs, ys)\n",
    "plt.scatter(xs,y_est)"
   ]
  },
  {
   "cell_type": "markdown",
   "metadata": {},
   "source": [
    "From m=3 and so on, all of the predicted values fit the actual function. So, I would say m=3 is the best fit since it has lower complexity. "
   ]
  },
  {
   "cell_type": "markdown",
   "metadata": {},
   "source": [
    "#### Task 12\n",
    "Plot the value of the loss (defined as $ l(\\alpha^Tx, y) = \\sum(\\alpha^Tx - y)^2 $  ) for m=2,…,10. \n",
    "\n",
    "y is our `ys` from the Task 6 and $\\alpha^Tx$ are our predictions `y_est`. \n",
    "\n",
    "What do you observe? Could you tell the optimal m from the plot?\n",
    "\n",
    "- HINT: loss can be computed as:\n",
    "\n",
    "```\n",
    "def compute_loss(y_est, ys):\n",
    "    return ((y_est - ys)**2).sum()\n",
    "```"
   ]
  },
  {
   "cell_type": "code",
   "execution_count": null,
   "metadata": {},
   "outputs": [],
   "source": [
    "def compute_loss(y_est, ys):\n",
    "    return ((y_est - ys)**2).sum()"
   ]
  },
  {
   "cell_type": "code",
   "execution_count": null,
   "metadata": {},
   "outputs": [],
   "source": []
  },
  {
   "cell_type": "code",
   "execution_count": null,
   "metadata": {},
   "outputs": [],
   "source": []
  }
 ],
 "metadata": {
  "kernelspec": {
   "display_name": "Python 3 (ipykernel)",
   "language": "python",
   "name": "python3"
  },
  "language_info": {
   "codemirror_mode": {
    "name": "ipython",
    "version": 3
   },
   "file_extension": ".py",
   "mimetype": "text/x-python",
   "name": "python",
   "nbconvert_exporter": "python",
   "pygments_lexer": "ipython3",
   "version": "3.9.12"
  }
 },
 "nbformat": 4,
 "nbformat_minor": 4
}
