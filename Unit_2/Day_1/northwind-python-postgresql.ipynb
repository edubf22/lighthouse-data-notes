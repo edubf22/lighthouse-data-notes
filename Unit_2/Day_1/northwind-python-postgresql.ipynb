{
 "cells": [
  {
   "cell_type": "code",
   "execution_count": 16,
   "id": "70c927d1",
   "metadata": {},
   "outputs": [
    {
     "name": "stdout",
     "output_type": "stream",
     "text": [
      "employee_id = 1\n",
      "last_name = Davolio\n",
      "first_name = Nancy\n",
      "employee_id = 2\n",
      "last_name = Fuller\n",
      "first_name = Andrew\n",
      "employee_id = 3\n",
      "last_name = Leverling\n",
      "first_name = Janet\n",
      "employee_id = 4\n",
      "last_name = Peacock\n",
      "first_name = Margaret\n",
      "employee_id = 5\n",
      "last_name = Buchanan\n",
      "first_name = Steven\n",
      "employee_id = 6\n",
      "last_name = Suyama\n",
      "first_name = Michael\n",
      "employee_id = 7\n",
      "last_name = King\n",
      "first_name = Robert\n",
      "employee_id = 8\n",
      "last_name = Callahan\n",
      "first_name = Laura\n",
      "employee_id = 9\n",
      "last_name = Dodsworth\n",
      "first_name = Anne\n",
      "Operation done successfully\n"
     ]
    }
   ],
   "source": [
    "import psycopg2\n",
    "import pandas as pd\n",
    "\n",
    "# Create a connection to the drinks database we just made \n",
    "# substitute the password you set for the \"postgres\" user\n",
    "con = psycopg2.connect(database='northwind', user='postgres', password='admin',\n",
    "                       host='127.0.0.1', port='5432')\n",
    "\n",
    "# create a cursor, which we use to submit our queries, and \n",
    "# belongs to connect()\n",
    "cur = con.cursor()\n",
    "\n",
    "# execute() method helps us in executing an action, like creating a table\n",
    "# or selecting entries\n",
    "cur.execute('''\n",
    "    SELECT\n",
    "        employeeid,\n",
    "        lastname,\n",
    "        firstname\n",
    "    FROM\n",
    "        employees;\n",
    "''')\n",
    "# fetchall() is used to get data from the db \n",
    "rows = cur.fetchall()\n",
    "\n",
    "# we show the data that comes back as tuples with a for loop\n",
    "for row in rows:\n",
    "    print('employee_id =', row[0])\n",
    "    print('last_name =', row[1])\n",
    "    print('first_name =', row[2])\n",
    "\n",
    "print('Operation done successfully')\n",
    "\n",
    "# the close method will close the connection with the db\n",
    "con.close()    "
   ]
  },
  {
   "cell_type": "code",
   "execution_count": 15,
   "id": "936d9873",
   "metadata": {},
   "outputs": [
    {
     "data": {
      "text/plain": [
       "[(1, 'Davolio', 'Nancy'),\n",
       " (2, 'Fuller', 'Andrew'),\n",
       " (3, 'Leverling', 'Janet'),\n",
       " (4, 'Peacock', 'Margaret'),\n",
       " (5, 'Buchanan', 'Steven'),\n",
       " (6, 'Suyama', 'Michael'),\n",
       " (7, 'King', 'Robert'),\n",
       " (8, 'Callahan', 'Laura'),\n",
       " (9, 'Dodsworth', 'Anne')]"
      ]
     },
     "execution_count": 15,
     "metadata": {},
     "output_type": "execute_result"
    }
   ],
   "source": [
    "rows"
   ]
  },
  {
   "cell_type": "code",
   "execution_count": null,
   "id": "cb489daf",
   "metadata": {},
   "outputs": [],
   "source": []
  },
  {
   "cell_type": "code",
   "execution_count": null,
   "id": "aa28ccb7",
   "metadata": {},
   "outputs": [],
   "source": []
  }
 ],
 "metadata": {
  "kernelspec": {
   "display_name": "Python 3 (ipykernel)",
   "language": "python",
   "name": "python3"
  },
  "language_info": {
   "codemirror_mode": {
    "name": "ipython",
    "version": 3
   },
   "file_extension": ".py",
   "mimetype": "text/x-python",
   "name": "python",
   "nbconvert_exporter": "python",
   "pygments_lexer": "ipython3",
   "version": "3.8.13"
  }
 },
 "nbformat": 4,
 "nbformat_minor": 5
}
