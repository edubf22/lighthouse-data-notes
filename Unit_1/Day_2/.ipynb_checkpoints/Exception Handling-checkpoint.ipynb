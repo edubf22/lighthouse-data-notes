{
 "cells": [
  {
   "cell_type": "code",
   "execution_count": 3,
   "id": "54513a7d",
   "metadata": {},
   "outputs": [
    {
     "name": "stdout",
     "output_type": "stream",
     "text": [
      "Some error occurred.\n",
      "Out of try except for blocks.\n"
     ]
    }
   ],
   "source": [
    "try: \n",
    "    a = 5\n",
    "    b = '0'\n",
    "    print(a/b)\n",
    "    \n",
    "except:\n",
    "    print('Some error occurred.')\n",
    "    \n",
    "print('Out of try except for blocks.')"
   ]
  },
  {
   "cell_type": "code",
   "execution_count": 4,
   "id": "ce60c181",
   "metadata": {},
   "outputs": [
    {
     "name": "stdout",
     "output_type": "stream",
     "text": [
      "Unsupported operation\n",
      "Out of try except for blocks.\n"
     ]
    }
   ],
   "source": [
    "try: \n",
    "    a = 5\n",
    "    b = '0'\n",
    "    print(a+b)\n",
    "    \n",
    "except TypeError:\n",
    "    print('Unsupported operation')\n",
    "    \n",
    "print('Out of try except for blocks.')"
   ]
  },
  {
   "cell_type": "code",
   "execution_count": 5,
   "id": "625db05f",
   "metadata": {},
   "outputs": [
    {
     "name": "stdout",
     "output_type": "stream",
     "text": [
      "Division by zero not allowed\n",
      "Out of try except blocks\n"
     ]
    }
   ],
   "source": [
    "try:\n",
    "    a = 5\n",
    "    b = 0\n",
    "    print(a/b)\n",
    "    \n",
    "except TypeError:\n",
    "    print('Unsupported operation')\n",
    "    \n",
    "except ZeroDivisionError:\n",
    "    print('Division by zero not allowed')\n",
    "\n",
    "print('Out of try except blocks')"
   ]
  },
  {
   "cell_type": "code",
   "execution_count": 6,
   "id": "3fa00a23",
   "metadata": {},
   "outputs": [
    {
     "name": "stdout",
     "output_type": "stream",
     "text": [
      "try block\n",
      "Enter a number: 12\n",
      "Enter another number: 10\n",
      "else block\n",
      "Division =  1.2\n",
      "finally block\n",
      "Out of try, except, else and finally blocks.\n"
     ]
    }
   ],
   "source": [
    "try:\n",
    "    print('try block')\n",
    "    x = int(input('Enter a number: '))\n",
    "    y = int(input('Enter another number: '))\n",
    "    z = x/y\n",
    "\n",
    "except ZeroDivisionError:\n",
    "    print('except ZeroDivisionError block')\n",
    "    print('Division by 0 not accepted')\n",
    "\n",
    "else:\n",
    "    print('else block')\n",
    "    print('Division = ', z)\n",
    "\n",
    "finally:\n",
    "    print('finally block')\n",
    "    x = 0\n",
    "    y = 0\n",
    "\n",
    "print('Out of try, except, else and finally blocks.')"
   ]
  },
  {
   "cell_type": "code",
   "execution_count": 7,
   "id": "a9f83da8",
   "metadata": {},
   "outputs": [
    {
     "name": "stdout",
     "output_type": "stream",
     "text": [
      "Enter a number up to 100: 101\n",
      "101 is out of allowed range\n"
     ]
    }
   ],
   "source": [
    "try:\n",
    "    x = int(input('Enter a number up to 100: '))\n",
    "    if x > 100:\n",
    "        raise ValueError(x)\n",
    "\n",
    "except ValueError:\n",
    "    print(x, \"is out of allowed range\")\n",
    "    \n",
    "else: \n",
    "    print(x, 'is within the allowed range')"
   ]
  }
 ],
 "metadata": {
  "kernelspec": {
   "display_name": "lhl_env",
   "language": "python",
   "name": "lhl_env"
  },
  "language_info": {
   "codemirror_mode": {
    "name": "ipython",
    "version": 3
   },
   "file_extension": ".py",
   "mimetype": "text/x-python",
   "name": "python",
   "nbconvert_exporter": "python",
   "pygments_lexer": "ipython3",
   "version": "3.9.13"
  }
 },
 "nbformat": 4,
 "nbformat_minor": 5
}
